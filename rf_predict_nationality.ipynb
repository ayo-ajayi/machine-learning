{
 "cells": [
  {
   "cell_type": "code",
   "execution_count": 1,
   "metadata": {},
   "outputs": [
    {
     "name": "stdout",
     "output_type": "stream",
     "text": [
      "accuracy is:  0.5217391304347826\n",
      "prediction is: [1]\n",
      "target name of prediction is: ['Nigerian']\n"
     ]
    }
   ],
   "source": [
    "from sklearn.ensemble import RandomForestClassifier\n",
    "from sklearn.metrics import accuracy_score\n",
    "import numpy as np\n",
    "from sklearn.model_selection import train_test_split\n",
    "%matplotlib inline\n",
    "import pickle\n",
    "\n",
    "dataset=[[21, 1, 66, 165], [19, 1, 50, 191], [20, 1, 68, 174], [20, 1, 54, 155], [21, 1, 67, 164], [24, 1, 81, 176], [19, 1, 73, 173], [23, 1, 56, 174], [19, 1, 76, 186], [22, 1, 44, 159], [22, 1, 71, 188], [25, 1, 59, 191], [19, 1, 82, 170], [19, 1, 77, 179], [22, 1, 83, 161], [20, 1, 79, 159], [22, 1, 53, 167], [25, 1, 44, 156], [24, 1, 51, 171], [19, 1, 42, 189], [24, 1, 35, 189], [22, 1, 58, 163], [22, 1, 70, 162], [19, 1, 46, 183], [22, 1, 64, 171], [22, 1, 68, 188], [19, 1, 80, 173], [21, 1, 50, 158], [20, 1, 50, 174], [25, 1, 35, 174], [22, 2, 51, 184], [24, 2, 48, 154], [22, 2, 36, 171], [21, 2, 36, 184], [21, 2, 75, 191], [25, 2, 38, 183], [22, 2, 78, 166], [20, 2, 80, 168], [19, 2, 65, 167], [22, 2, 44, 163], [21, 2, 70, 167], [23, 2, 40, 183], [20, 2, 68, 187], [20, 2, 83, 184], [25, 2, 67, 183], [24, 2, 61, 176], [21, 2, 66, 168], [20, 2, 79, 154], [25, 2, 86, 178], [22, 2, 75, 164], [21, 2, 45, 156], [24, 2, 64, 155], [24, 2, 49, 185], [19, 2, 82, 185], [24, 2, 53, 175], [24, 2, 76, 161], [25, 2, 59, 184], [21, 2, 66, 175], [22, 2, 85, 184], [19, 2, 86, 173], [20, 3, 81, 169], [24, 3, 49, 171], [19, 3, 47, 156], [21, 3, 52, 177], [25, 3, 64, 171], [22, 3, 37, 182], [21, 3, 47, 162], [21, 3, 84, 172], [24, 3, 80, 166], [19, 3, 42, 167], [22, 3, 39, 182], [21, 3, 63, 188], [24, 3, 64, 182], [25, 3, 80, 173], [23, 3, 74, 159], [20, 3, 53, 174], [25, 3, 56, 169], [19, 3, 50, 157], [22, 3, 68, 164], [22, 3, 55, 179], [19, 3, 74, 183], [22, 3, 36, 181], [20, 3, 77, 173], [23, 3, 77, 191], [25, 3, 76, 174], [19, 3, 70, 167], [23, 3, 49, 164], [21, 3, 76, 173], [23, 3, 56, 176], [21, 3, 75, 178]]\n",
    "\n",
    "people = {\n",
    "    'data': dataset,\n",
    "    'target': np.array([0, 1, 2, 0, 1, 2, 0, 1, 2, 0, 1, 2, 0, 1, 2, 0, 1, 2, 0, 1, 2, 0, 1, 2, 0, 1, 2, 0, 1, 2,0, 1, 2, 0, 1, 2, 0, 1, 2, 0, 1, 2, 0, 1, 2, 0, 1, 2, 0, 1, 2, 0, 1, 2, 0, 1, 2, 0, 1, 2,0, 1, 2, 0, 1, 2, 0, 1, 2, 0, 1, 2, 0, 1, 2, 0, 1, 2, 0, 1, 2, 0, 1, 2, 0, 1, 2, 0, 1, 2]),\n",
    "    'target_names': np.array(['American', 'Nigerian', 'Jamaican'])\n",
    "}\n",
    "for i in range(1000):\n",
    "    X_train, X_test,y_train,y_test= train_test_split(\n",
    "        people['data'], people['target'], random_state=0\n",
    "    )\n",
    "    rf_model = RandomForestClassifier()\n",
    "    rf_model.fit(X_train, y_train)\n",
    "    y_pred = rf_model.predict(X_test)\n",
    "    rf_accuracy = accuracy_score(y_test, y_pred)\n",
    "    if rf_accuracy > 0.5:\n",
    "        print(\"accuracy is: \", rf_accuracy)\n",
    "        break\n",
    "\n",
    "with open('rf_model.pkl','wb') as file:\n",
    "    pickle.dump(rf_model, file)\n",
    "\n",
    "def predict(X_new):\n",
    "    with open('rf_model.pkl', 'rb') as file:\n",
    "        model = pickle.load(file)\n",
    "    prediction = model.predict(X_new)\n",
    "    print(f\"prediction is: {prediction}\")\n",
    "    print(f\"target name of prediction is: {people['target_names'][prediction]}\")\n",
    "\n",
    "predict(X_new = np.array([[30, 3, 66, 165]]))"
   ]
  }
 ],
 "metadata": {
  "kernelspec": {
   "display_name": "Python 3",
   "language": "python",
   "name": "python3"
  },
  "language_info": {
   "codemirror_mode": {
    "name": "ipython",
    "version": 3
   },
   "file_extension": ".py",
   "mimetype": "text/x-python",
   "name": "python",
   "nbconvert_exporter": "python",
   "pygments_lexer": "ipython3",
   "version": "3.11.3"
  }
 },
 "nbformat": 4,
 "nbformat_minor": 2
}
